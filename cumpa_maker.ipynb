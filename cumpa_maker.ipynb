{
 "cells": [
  {
   "cell_type": "code",
   "execution_count": 33,
   "metadata": {
    "executionInfo": {
     "elapsed": 1025,
     "status": "ok",
     "timestamp": 1603909029809,
     "user": {
      "displayName": "miguel garello",
      "photoUrl": "",
      "userId": "07662261813401819938"
     },
     "user_tz": 180
    },
    "id": "JSIDs4yBNJKf"
   },
   "outputs": [],
   "source": [
    "from tensorflow.keras.preprocessing.text import Tokenizer\n",
    "from tensorflow.keras.models import Sequential, load_model\n",
    "from tensorflow.keras.preprocessing.sequence import pad_sequences\n",
    "from tensorflow.keras.layers import Dense, Bidirectional, LSTM, Dropout, Embedding\n",
    "from tensorflow.keras import regularizers\n",
    "from tensorflow.keras.optimizers import Adam\n",
    "import tensorflow.keras.utils as ku\n",
    "from sklearn.model_selection import train_test_split\n",
    "\n",
    "import string\n",
    "import pandas as pd\n",
    "import numpy as np"
   ]
  },
  {
   "cell_type": "code",
   "execution_count": 2,
   "metadata": {
    "executionInfo": {
     "elapsed": 2579,
     "status": "ok",
     "timestamp": 1603907083705,
     "user": {
      "displayName": "miguel garello",
      "photoUrl": "",
      "userId": "07662261813401819938"
     },
     "user_tz": 180
    },
    "id": "0ss8WAXaNRgQ"
   },
   "outputs": [],
   "source": [
    "df = pd.read_csv('cumpa_lyrics.csv')\n",
    "songs = df[['lyric']]\n",
    "songs.loc[:,'lyric'] = songs.loc[:,'lyric'].str.lower()\n",
    "songs['lyric'] = songs['lyric'].str.replace(f'[{string.punctuation}]','')"
   ]
  },
  {
   "cell_type": "code",
   "execution_count": 30,
   "metadata": {
    "executionInfo": {
     "elapsed": 975,
     "status": "ok",
     "timestamp": 1603908598384,
     "user": {
      "displayName": "miguel garello",
      "photoUrl": "",
      "userId": "07662261813401819938"
     },
     "user_tz": 180
    },
    "id": "q0E4bOz9UcxG"
   },
   "outputs": [],
   "source": [
    "def secuenciador(df,columna= 'lyric', n =None):\n",
    "  \"\"\"\n",
    "    devuelve np.array de la secuencia de entradas, np.array de las etiquetas de salida y el numero total de palabras existentes en el df\n",
    "    toma como parametro la columna del df de la que se extraen las letras y el numero que representa la longuitud que van a tener los datos de entrada\n",
    "    en caso que el n sea None o mayor que el maximo-1 se tomara el maximo -1\n",
    "  \"\"\"\n",
    "  lista_canciones = list(df[columna])\n",
    "  tokenaizer = Tokenizer()\n",
    "  tokenaizer.fit_on_texts(lista_canciones)\n",
    "  numero_palabras = len(tokenaizer.index_word) + 1\n",
    "\n",
    "  #con el tokenaizer se convierten las palabras a numeras y luego por parrafo toma la primer palabra va agregando de a una por item de la lista hasta completar el parrafo\n",
    "  secuencia_entrada = []\n",
    "  for l in lista_canciones:\n",
    "      tokenlist = tokenaizer.texts_to_sequences([l])[0]\n",
    "      for i in range(1, len(tokenlist)):\n",
    "          ngram_sequence = tokenlist[:i+1]\n",
    "          secuencia_entrada.append(ngram_sequence)\n",
    "\n",
    "  #Saca el maximo de palabras en cada item y usa ese maximo para rellenar el resto con 0 asi todas tienen el mismo largo\n",
    "  max_secuencia_entrada = max([len(x) for x in secuencia_entrada])\n",
    "  if n==None or n > max_secuencia_entrada-1:\n",
    "    n = max_secuencia_entrada -1\n",
    "  secuencia_entrada = np.array(pad_sequences(secuencia_entrada, maxlen=n, padding='pre'))\n",
    "\n",
    "  #separa la x de la y para poder ingresar al modelo\n",
    "  predictores_modelo, etiquetas_salida = secuencia_entrada[:,:-1], secuencia_entrada[:,-1]\n",
    "  etiquetas_salida = ku.to_categorical(etiquetas_salida, num_classes=numero_palabras)\n",
    "\n",
    "  return predictores_modelo, etiquetas_salida, numero_palabras"
   ]
  },
  {
   "cell_type": "code",
   "execution_count": 47,
   "metadata": {
    "colab": {
     "base_uri": "https://localhost:8080/"
    },
    "executionInfo": {
     "elapsed": 2008,
     "status": "ok",
     "timestamp": 1603909435124,
     "user": {
      "displayName": "miguel garello",
      "photoUrl": "",
      "userId": "07662261813401819938"
     },
     "user_tz": 180
    },
    "id": "lzO1WSt4NzVS",
    "outputId": "5d647b65-9fec-4b90-ab90-9bf019a24584"
   },
   "outputs": [
    {
     "name": "stdout",
     "output_type": "stream",
     "text": [
      "Model: \"sequential_2\"\n",
      "_________________________________________________________________\n",
      "Layer (type)                 Output Shape              Param #   \n",
      "=================================================================\n",
      "embedding_2 (Embedding)      (None, 15, 140)           629300    \n",
      "_________________________________________________________________\n",
      "bidirectional_4 (Bidirection (None, 15, 400)           545600    \n",
      "_________________________________________________________________\n",
      "dropout_4 (Dropout)          (None, 15, 400)           0         \n",
      "_________________________________________________________________\n",
      "bidirectional_5 (Bidirection (None, 15, 200)           400800    \n",
      "_________________________________________________________________\n",
      "dropout_5 (Dropout)          (None, 15, 200)           0         \n",
      "_________________________________________________________________\n",
      "lstm_8 (LSTM)                (None, 100)               120400    \n",
      "_________________________________________________________________\n",
      "dense_4 (Dense)              (None, 2247)              226947    \n",
      "_________________________________________________________________\n",
      "dense_5 (Dense)              (None, 4495)              10104760  \n",
      "=================================================================\n",
      "Total params: 12,027,807\n",
      "Trainable params: 12,027,807\n",
      "Non-trainable params: 0\n",
      "_________________________________________________________________\n"
     ]
    }
   ],
   "source": [
    "modelo = Sequential()\n",
    "modelo.add(Embedding(numero_palabras, 140, input_length=15))\n",
    "modelo.add(Bidirectional(LSTM(200, return_sequences=True)))\n",
    "modelo.add(Dropout(0.2))\n",
    "modelo.add(Bidirectional(LSTM(100, return_sequences=True)))\n",
    "modelo.add(Dropout(0.2))\n",
    "modelo.add(LSTM(100, return_sequences=False))\n",
    "modelo.add(Dense(numero_palabras/2, activation = 'relu', kernel_regularizer=regularizers.l2(0.001)))\n",
    "modelo.add(Dense(numero_palabras, activation='softmax'))\n",
    "\n",
    "modelo.compile(optimizer='adam', loss='categorical_crossentropy', metrics=['accuracy'])\n",
    "modelo.summary()"
   ]
  },
  {
   "cell_type": "code",
   "execution_count": 37,
   "metadata": {
    "executionInfo": {
     "elapsed": 1386,
     "status": "ok",
     "timestamp": 1603909316538,
     "user": {
      "displayName": "miguel garello",
      "photoUrl": "",
      "userId": "07662261813401819938"
     },
     "user_tz": 180
    },
    "id": "et-3-rqzY8rx"
   },
   "outputs": [],
   "source": [
    "predictores_modelo, etiquetas_salida, numero_palabras= secuenciador(songs, columna='lyric', n=16)"
   ]
  },
  {
   "cell_type": "code",
   "execution_count": 38,
   "metadata": {
    "executionInfo": {
     "elapsed": 1152,
     "status": "ok",
     "timestamp": 1603909318313,
     "user": {
      "displayName": "miguel garello",
      "photoUrl": "",
      "userId": "07662261813401819938"
     },
     "user_tz": 180
    },
    "id": "hpRV2VIEZeb7"
   },
   "outputs": [],
   "source": [
    "x_train, x_test, y_train, y_test = train_test_split(predictores_modelo, etiquetas_salida, shuffle= False, test_size= 0.2)"
   ]
  },
  {
   "cell_type": "code",
   "execution_count": 48,
   "metadata": {
    "colab": {
     "base_uri": "https://localhost:8080/"
    },
    "collapsed": true,
    "executionInfo": {
     "elapsed": 267235,
     "status": "ok",
     "timestamp": 1603909706369,
     "user": {
      "displayName": "miguel garello",
      "photoUrl": "",
      "userId": "07662261813401819938"
     },
     "user_tz": 180
    },
    "id": "YkJ3HW9AN1ek",
    "outputId": "fb09f0da-04d3-469e-981e-63b4ef595da1"
   },
   "outputs": [
    {
     "name": "stdout",
     "output_type": "stream",
     "text": [
      "Epoch 1/50\n",
      "222/222 [==============================] - 6s 29ms/step - loss: 6.7117 - accuracy: 0.0313 - val_loss: 6.8919 - val_accuracy: 0.0249\n",
      "Epoch 2/50\n",
      "222/222 [==============================] - 5s 23ms/step - loss: 6.2168 - accuracy: 0.0356 - val_loss: 6.9332 - val_accuracy: 0.0320\n",
      "Epoch 3/50\n",
      "222/222 [==============================] - 5s 23ms/step - loss: 5.9444 - accuracy: 0.0486 - val_loss: 7.0499 - val_accuracy: 0.0502\n",
      "Epoch 4/50\n",
      "222/222 [==============================] - 5s 23ms/step - loss: 5.7178 - accuracy: 0.0667 - val_loss: 7.1621 - val_accuracy: 0.0700\n",
      "Epoch 5/50\n",
      "222/222 [==============================] - 5s 23ms/step - loss: 5.5157 - accuracy: 0.0809 - val_loss: 7.1763 - val_accuracy: 0.0712\n",
      "Epoch 6/50\n",
      "222/222 [==============================] - 5s 23ms/step - loss: 5.3576 - accuracy: 0.0883 - val_loss: 7.2380 - val_accuracy: 0.0744\n",
      "Epoch 7/50\n",
      "222/222 [==============================] - 5s 23ms/step - loss: 5.2330 - accuracy: 0.0980 - val_loss: 7.2484 - val_accuracy: 0.0733\n",
      "Epoch 8/50\n",
      "222/222 [==============================] - 5s 23ms/step - loss: 5.0864 - accuracy: 0.1099 - val_loss: 7.4114 - val_accuracy: 0.0779\n",
      "Epoch 9/50\n",
      "222/222 [==============================] - 5s 23ms/step - loss: 4.9289 - accuracy: 0.1241 - val_loss: 7.3821 - val_accuracy: 0.0881\n",
      "Epoch 10/50\n",
      "222/222 [==============================] - 5s 23ms/step - loss: 4.7738 - accuracy: 0.1395 - val_loss: 7.4730 - val_accuracy: 0.0950\n",
      "Epoch 11/50\n",
      "222/222 [==============================] - 5s 23ms/step - loss: 4.6393 - accuracy: 0.1500 - val_loss: 7.4710 - val_accuracy: 0.0932\n",
      "Epoch 12/50\n",
      "222/222 [==============================] - 5s 23ms/step - loss: 4.5159 - accuracy: 0.1677 - val_loss: 7.6080 - val_accuracy: 0.0954\n",
      "Epoch 13/50\n",
      "222/222 [==============================] - 5s 23ms/step - loss: 4.3880 - accuracy: 0.1805 - val_loss: 7.6777 - val_accuracy: 0.1009\n",
      "Epoch 14/50\n",
      "222/222 [==============================] - 5s 23ms/step - loss: 4.2613 - accuracy: 0.1932 - val_loss: 7.6831 - val_accuracy: 0.1011\n",
      "Epoch 15/50\n",
      "222/222 [==============================] - 5s 23ms/step - loss: 4.1572 - accuracy: 0.2033 - val_loss: 7.7126 - val_accuracy: 0.1002\n",
      "Epoch 16/50\n",
      "222/222 [==============================] - 5s 23ms/step - loss: 4.0415 - accuracy: 0.2175 - val_loss: 7.8019 - val_accuracy: 0.1025\n",
      "Epoch 17/50\n",
      "222/222 [==============================] - 5s 23ms/step - loss: 3.9276 - accuracy: 0.2299 - val_loss: 7.9077 - val_accuracy: 0.1073\n",
      "Epoch 18/50\n",
      "222/222 [==============================] - 5s 23ms/step - loss: 3.8242 - accuracy: 0.2424 - val_loss: 8.0260 - val_accuracy: 0.1094\n",
      "Epoch 19/50\n",
      "222/222 [==============================] - 5s 23ms/step - loss: 3.7207 - accuracy: 0.2580 - val_loss: 8.1165 - val_accuracy: 0.1166\n",
      "Epoch 20/50\n",
      "222/222 [==============================] - 5s 24ms/step - loss: 3.6148 - accuracy: 0.2710 - val_loss: 8.1887 - val_accuracy: 0.1263\n",
      "Epoch 21/50\n",
      "222/222 [==============================] - 5s 23ms/step - loss: 3.5199 - accuracy: 0.2839 - val_loss: 8.2938 - val_accuracy: 0.1276\n",
      "Epoch 22/50\n",
      "222/222 [==============================] - 5s 23ms/step - loss: 3.4244 - accuracy: 0.2989 - val_loss: 8.3269 - val_accuracy: 0.1197\n",
      "Epoch 23/50\n",
      "222/222 [==============================] - 5s 23ms/step - loss: 3.3327 - accuracy: 0.3113 - val_loss: 8.4345 - val_accuracy: 0.1250\n",
      "Epoch 24/50\n",
      "222/222 [==============================] - 5s 23ms/step - loss: 3.2358 - accuracy: 0.3270 - val_loss: 8.5044 - val_accuracy: 0.1322\n",
      "Epoch 25/50\n",
      "222/222 [==============================] - 5s 23ms/step - loss: 3.1565 - accuracy: 0.3366 - val_loss: 8.6309 - val_accuracy: 0.1256\n",
      "Epoch 26/50\n",
      "222/222 [==============================] - 5s 23ms/step - loss: 3.0721 - accuracy: 0.3488 - val_loss: 8.7695 - val_accuracy: 0.1308\n",
      "Epoch 27/50\n",
      "222/222 [==============================] - 5s 24ms/step - loss: 3.0004 - accuracy: 0.3635 - val_loss: 8.7411 - val_accuracy: 0.1380\n",
      "Epoch 28/50\n",
      "222/222 [==============================] - 5s 23ms/step - loss: 2.9218 - accuracy: 0.3746 - val_loss: 8.8356 - val_accuracy: 0.1370\n",
      "Epoch 29/50\n",
      "222/222 [==============================] - 5s 23ms/step - loss: 2.8513 - accuracy: 0.3877 - val_loss: 8.8825 - val_accuracy: 0.1381\n",
      "Epoch 30/50\n",
      "222/222 [==============================] - 5s 23ms/step - loss: 2.7763 - accuracy: 0.4007 - val_loss: 9.1116 - val_accuracy: 0.1439\n",
      "Epoch 31/50\n",
      "222/222 [==============================] - 5s 23ms/step - loss: 2.7211 - accuracy: 0.4120 - val_loss: 9.1746 - val_accuracy: 0.1435\n",
      "Epoch 32/50\n",
      "222/222 [==============================] - 5s 23ms/step - loss: 2.6505 - accuracy: 0.4234 - val_loss: 9.2235 - val_accuracy: 0.1450\n",
      "Epoch 33/50\n",
      "222/222 [==============================] - 5s 23ms/step - loss: 2.5956 - accuracy: 0.4329 - val_loss: 9.3470 - val_accuracy: 0.1473\n",
      "Epoch 34/50\n",
      "222/222 [==============================] - 5s 23ms/step - loss: 2.5423 - accuracy: 0.4403 - val_loss: 9.3945 - val_accuracy: 0.1535\n",
      "Epoch 35/50\n",
      "222/222 [==============================] - 5s 23ms/step - loss: 2.4891 - accuracy: 0.4527 - val_loss: 9.3827 - val_accuracy: 0.1532\n",
      "Epoch 36/50\n",
      "222/222 [==============================] - 5s 24ms/step - loss: 2.4328 - accuracy: 0.4633 - val_loss: 9.4918 - val_accuracy: 0.1522\n",
      "Epoch 37/50\n",
      "222/222 [==============================] - 5s 24ms/step - loss: 2.3822 - accuracy: 0.4710 - val_loss: 9.5148 - val_accuracy: 0.1549\n",
      "Epoch 38/50\n",
      "222/222 [==============================] - 5s 24ms/step - loss: 2.3380 - accuracy: 0.4791 - val_loss: 9.5878 - val_accuracy: 0.1490\n",
      "Epoch 39/50\n",
      "222/222 [==============================] - 5s 23ms/step - loss: 2.3000 - accuracy: 0.4832 - val_loss: 9.6491 - val_accuracy: 0.1619\n",
      "Epoch 40/50\n",
      "222/222 [==============================] - 5s 23ms/step - loss: 2.2437 - accuracy: 0.5004 - val_loss: 9.7638 - val_accuracy: 0.1583\n",
      "Epoch 41/50\n",
      "222/222 [==============================] - 5s 23ms/step - loss: 2.2022 - accuracy: 0.5061 - val_loss: 9.7730 - val_accuracy: 0.1593\n",
      "Epoch 42/50\n",
      "222/222 [==============================] - 5s 23ms/step - loss: 2.1575 - accuracy: 0.5175 - val_loss: 9.8454 - val_accuracy: 0.1635\n",
      "Epoch 43/50\n",
      "222/222 [==============================] - 5s 23ms/step - loss: 2.1176 - accuracy: 0.5228 - val_loss: 9.9803 - val_accuracy: 0.1608\n",
      "Epoch 44/50\n",
      "222/222 [==============================] - 5s 23ms/step - loss: 2.0791 - accuracy: 0.5326 - val_loss: 10.0672 - val_accuracy: 0.1587\n",
      "Epoch 45/50\n",
      "222/222 [==============================] - 5s 23ms/step - loss: 2.0451 - accuracy: 0.5416 - val_loss: 10.0584 - val_accuracy: 0.1642\n",
      "Epoch 46/50\n",
      "222/222 [==============================] - 5s 23ms/step - loss: 2.0053 - accuracy: 0.5498 - val_loss: 10.0391 - val_accuracy: 0.1683\n",
      "Epoch 47/50\n",
      "222/222 [==============================] - 5s 23ms/step - loss: 1.9729 - accuracy: 0.5532 - val_loss: 10.2297 - val_accuracy: 0.1721\n",
      "Epoch 48/50\n",
      "222/222 [==============================] - 5s 23ms/step - loss: 1.9484 - accuracy: 0.5596 - val_loss: 10.2992 - val_accuracy: 0.1711\n",
      "Epoch 49/50\n",
      "222/222 [==============================] - 5s 23ms/step - loss: 1.9213 - accuracy: 0.5644 - val_loss: 10.2571 - val_accuracy: 0.1691\n",
      "Epoch 50/50\n",
      "222/222 [==============================] - 5s 23ms/step - loss: 1.8878 - accuracy: 0.5724 - val_loss: 10.3472 - val_accuracy: 0.1734\n"
     ]
    }
   ],
   "source": [
    "history = modelo.fit(x_train, y_train, batch_size=128,validation_data=(x_test,y_test), epochs=50, verbose=1)"
   ]
  },
  {
   "cell_type": "code",
   "execution_count": 52,
   "metadata": {
    "executionInfo": {
     "elapsed": 1386,
     "status": "ok",
     "timestamp": 1603911343521,
     "user": {
      "displayName": "miguel garello",
      "photoUrl": "",
      "userId": "07662261813401819938"
     },
     "user_tz": 180
    },
    "id": "hvE5QmkbN7p9"
   },
   "outputs": [],
   "source": [
    "def generador_Canciones(text, cantidad_palabras,n):\n",
    "    for i in range(cantidad_palabras):\n",
    "        tokenlist = tokenaizer.texts_to_sequences([text])[0]\n",
    "        tokenlist = pad_sequences([tokenlist], maxlen= n)\n",
    "        palabra_index = modelo.predict_classes(tokenlist, verbose=0)\n",
    "        for p, i in tokenaizer.word_index.items():\n",
    "            if i == palabra_index:\n",
    "                text =text + ' ' + p\n",
    "                break\n",
    "    return text"
   ]
  },
  {
   "cell_type": "code",
   "execution_count": 53,
   "metadata": {
    "executionInfo": {
     "elapsed": 2992,
     "status": "ok",
     "timestamp": 1603911347743,
     "user": {
      "displayName": "miguel garello",
      "photoUrl": "",
      "userId": "07662261813401819938"
     },
     "user_tz": 180
    },
    "id": "xNbzL5rXPYRw"
   },
   "outputs": [],
   "source": [
    "letra = generador_Canciones('este faso', 20,15)"
   ]
  },
  {
   "cell_type": "code",
   "execution_count": 54,
   "metadata": {
    "colab": {
     "base_uri": "https://localhost:8080/",
     "height": 35
    },
    "executionInfo": {
     "elapsed": 964,
     "status": "ok",
     "timestamp": 1603911352685,
     "user": {
      "displayName": "miguel garello",
      "photoUrl": "",
      "userId": "07662261813401819938"
     },
     "user_tz": 180
    },
    "id": "eYreujVEP3T4",
    "outputId": "65b93908-5268-4de8-dc0f-c20ca14c3aeb"
   },
   "outputs": [
    {
     "data": {
      "application/vnd.google.colaboratory.intrinsic+json": {
       "type": "string"
      },
      "text/plain": [
       "'este faso o lo que usted me gusta lo que hablo de mi lado siempre estar que me viniste re chuponeada re'"
      ]
     },
     "execution_count": 54,
     "metadata": {
      "tags": []
     },
     "output_type": "execute_result"
    }
   ],
   "source": [
    "letra"
   ]
  },
  {
   "cell_type": "code",
   "execution_count": null,
   "metadata": {
    "id": "UEvOkyf7ps06"
   },
   "outputs": [],
   "source": []
  }
 ],
 "metadata": {
  "accelerator": "GPU",
  "colab": {
   "authorship_tag": "ABX9TyOsN3qr4SJfNAe5vQJWDyjY",
   "collapsed_sections": [],
   "name": "cumpa_maker.ipynb",
   "provenance": []
  },
  "kernelspec": {
   "display_name": "Python 3",
   "language": "python",
   "name": "python3"
  },
  "language_info": {
   "codemirror_mode": {
    "name": "ipython",
    "version": 3
   },
   "file_extension": ".py",
   "mimetype": "text/x-python",
   "name": "python",
   "nbconvert_exporter": "python",
   "pygments_lexer": "ipython3",
   "version": "3.8.3"
  }
 },
 "nbformat": 4,
 "nbformat_minor": 1
}
