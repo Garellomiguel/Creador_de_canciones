{
 "cells": [
  {
   "cell_type": "markdown",
   "metadata": {},
   "source": [
    "# Convierte el df con cada letra en una linea a un df con cada parrafo de letra por linea"
   ]
  },
  {
   "cell_type": "code",
   "execution_count": 8,
   "metadata": {},
   "outputs": [],
   "source": [
    "import pandas as pd"
   ]
  },
  {
   "cell_type": "code",
   "execution_count": 5,
   "metadata": {},
   "outputs": [
    {
     "data": {
      "text/html": [
       "<div>\n",
       "<style scoped>\n",
       "    .dataframe tbody tr th:only-of-type {\n",
       "        vertical-align: middle;\n",
       "    }\n",
       "\n",
       "    .dataframe tbody tr th {\n",
       "        vertical-align: top;\n",
       "    }\n",
       "\n",
       "    .dataframe thead th {\n",
       "        text-align: right;\n",
       "    }\n",
       "</style>\n",
       "<table border=\"1\" class=\"dataframe\">\n",
       "  <thead>\n",
       "    <tr style=\"text-align: right;\">\n",
       "      <th></th>\n",
       "      <th>nombre</th>\n",
       "      <th>letra</th>\n",
       "    </tr>\n",
       "  </thead>\n",
       "  <tbody>\n",
       "    <tr>\n",
       "      <th>0</th>\n",
       "      <td>'Me vas a extrañar'</td>\n",
       "      <td>&lt;p&gt;Los besos de mi boca&lt;br&gt;no fueron suficient...</td>\n",
       "    </tr>\n",
       "    <tr>\n",
       "      <th>1</th>\n",
       "      <td>'El Super Cheto'</td>\n",
       "      <td>&lt;p&gt;Y ahora si&lt;br&gt;Mas de un cheto se quiere mat...</td>\n",
       "    </tr>\n",
       "    <tr>\n",
       "      <th>2</th>\n",
       "      <td>'El Humo De Mi Fasito'</td>\n",
       "      <td>&lt;p&gt;Quiero ponerme a beber&lt;br&gt;y un alto faso fu...</td>\n",
       "    </tr>\n",
       "    <tr>\n",
       "      <th>3</th>\n",
       "      <td>'Alto Faso'</td>\n",
       "      <td>&lt;p&gt;Quiero ponerme a vivir&lt;/p&gt;,&lt;p&gt;y un alto fas...</td>\n",
       "    </tr>\n",
       "    <tr>\n",
       "      <th>4</th>\n",
       "      <td>'No Te Creas Tan Importante'</td>\n",
       "      <td>&lt;p&gt;Ya me contaron&lt;br&gt;Que te estás hablando mal...</td>\n",
       "    </tr>\n",
       "  </tbody>\n",
       "</table>\n",
       "</div>"
      ],
      "text/plain": [
       "                         nombre  \\\n",
       "0           'Me vas a extrañar'   \n",
       "1              'El Super Cheto'   \n",
       "2        'El Humo De Mi Fasito'   \n",
       "3                   'Alto Faso'   \n",
       "4  'No Te Creas Tan Importante'   \n",
       "\n",
       "                                               letra  \n",
       "0  <p>Los besos de mi boca<br>no fueron suficient...  \n",
       "1  <p>Y ahora si<br>Mas de un cheto se quiere mat...  \n",
       "2  <p>Quiero ponerme a beber<br>y un alto faso fu...  \n",
       "3  <p>Quiero ponerme a vivir</p>,<p>y un alto fas...  \n",
       "4  <p>Ya me contaron<br>Que te estás hablando mal...  "
      ]
     },
     "execution_count": 5,
     "metadata": {},
     "output_type": "execute_result"
    }
   ],
   "source": [
    "df = pd.read_csv('cumpa/DamasGratis_items.csv')\n",
    "df.head()"
   ]
  },
  {
   "cell_type": "code",
   "execution_count": 26,
   "metadata": {},
   "outputs": [],
   "source": [
    "letra_split=[]\n",
    "for i in df['letra']:\n",
    "    i = i.replace(\"<p>\", '<br>')\n",
    "    i = i.replace(\"</p>\", '<br>')\n",
    "    for j in i.split('<br>'):\n",
    "        if not len(j)> 4:\n",
    "            pass\n",
    "        else:\n",
    "            letra_split.append(j)\n",
    "lyrics = pd.DataFrame(letra_split, columns=['lyric'])\n",
    "lyrics.to_csv('cumpa_lyrics.csv')"
   ]
  },
  {
   "cell_type": "code",
   "execution_count": null,
   "metadata": {},
   "outputs": [],
   "source": []
  }
 ],
 "metadata": {
  "kernelspec": {
   "display_name": "Python 3",
   "language": "python",
   "name": "python3"
  },
  "language_info": {
   "codemirror_mode": {
    "name": "ipython",
    "version": 3
   },
   "file_extension": ".py",
   "mimetype": "text/x-python",
   "name": "python",
   "nbconvert_exporter": "python",
   "pygments_lexer": "ipython3",
   "version": "3.8.3"
  },
  "varInspector": {
   "cols": {
    "lenName": 16,
    "lenType": 16,
    "lenVar": 40
   },
   "kernels_config": {
    "python": {
     "delete_cmd_postfix": "",
     "delete_cmd_prefix": "del ",
     "library": "var_list.py",
     "varRefreshCmd": "print(var_dic_list())"
    },
    "r": {
     "delete_cmd_postfix": ") ",
     "delete_cmd_prefix": "rm(",
     "library": "var_list.r",
     "varRefreshCmd": "cat(var_dic_list()) "
    }
   },
   "types_to_exclude": [
    "module",
    "function",
    "builtin_function_or_method",
    "instance",
    "_Feature"
   ],
   "window_display": false
  }
 },
 "nbformat": 4,
 "nbformat_minor": 4
}
